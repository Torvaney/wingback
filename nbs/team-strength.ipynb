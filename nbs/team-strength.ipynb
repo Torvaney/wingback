{
 "cells": [
  {
   "cell_type": "code",
   "execution_count": null,
   "id": "a6e6dd58",
   "metadata": {},
   "outputs": [],
   "source": [
    "# default_exp team_strength"
   ]
  },
  {
   "cell_type": "markdown",
   "id": "15a4433e",
   "metadata": {},
   "source": [
    "# Team strength"
   ]
  },
  {
   "cell_type": "code",
   "execution_count": null,
   "id": "35c681b1",
   "metadata": {},
   "outputs": [],
   "source": [
    "#hide\n",
    "from nbdev.showdoc import *"
   ]
  },
  {
   "cell_type": "code",
   "execution_count": null,
   "id": "a04de80b",
   "metadata": {},
   "outputs": [],
   "source": [
    "import os\n",
    "import dotenv"
   ]
  },
  {
   "cell_type": "code",
   "execution_count": null,
   "id": "44cb472a",
   "metadata": {},
   "outputs": [],
   "source": [
    "#export\n",
    "import abc\n",
    "import collections\n",
    "import datetime as dt\n",
    "import functools\n",
    "import itertools\n",
    "\n",
    "import mezzala\n",
    "import numpy as np\n",
    "\n",
    "import wingback.db"
   ]
  },
  {
   "cell_type": "code",
   "execution_count": null,
   "id": "440bfe05",
   "metadata": {},
   "outputs": [],
   "source": [
    "dotenv.load_dotenv()\n",
    "\n",
    "wingback.db.queries.connect('postgresql://{user}:{password}@{host}:{port}/{database}'.format(\n",
    "    host=os.environ['DB_HOST'],\n",
    "    user=os.environ['DB_USER'],\n",
    "    password=os.environ['DB_PASS'],\n",
    "    database=os.environ['DB_NAME'],\n",
    "    port=os.environ['DB_PORT'],\n",
    "))"
   ]
  },
  {
   "cell_type": "code",
   "execution_count": null,
   "id": "40c635d9",
   "metadata": {},
   "outputs": [],
   "source": [
    "#export\n",
    "\n",
    "\n",
    "class ModelABC:\n",
    "    @abc.abstractmethod\n",
    "    def fetch_data(self, league_ids, date):\n",
    "        training_data = ...  # e.g. matches up-to, not including `date`\n",
    "        return training_data\n",
    "    \n",
    "    @abc.abstractmethod\n",
    "    def fit(self, data):\n",
    "        return self\n",
    "    \n",
    "    @abc.abstractmethod\n",
    "    def predict(self, data):\n",
    "        predictions = ...\n",
    "        return predictions\n",
    "    \n",
    "    @abc.abstractmethod\n",
    "    def to_dict(self):\n",
    "        return ..."
   ]
  },
  {
   "cell_type": "code",
   "execution_count": null,
   "id": "c34dce83",
   "metadata": {},
   "outputs": [],
   "source": [
    "#export\n",
    "\n",
    "\n",
    "class Benchmark(ModelABC):\n",
    "    \"\"\"\n",
    "    A benchmark model that gives the same predictions for every match.\n",
    "    \n",
    "    This prediction is simply an average of the observed scoreline frequency \n",
    "    within the training data.\n",
    "    \"\"\"\n",
    "    \n",
    "    def __init__(self, time_window=360):\n",
    "        self._time_window = time_window\n",
    "        \n",
    "        self._data = None\n",
    "    \n",
    "    @property\n",
    "    def time_window(self):\n",
    "        return dt.timedelta(days=self._time_window)\n",
    "    \n",
    "    def fetch_data(self, league_ids, date):\n",
    "        training_data = wingback.db.queries.fetch_matches(\n",
    "            start=date-self.time_window, \n",
    "            end=date, \n",
    "            league_ids=league_ids,\n",
    "            season_ids=[None]\n",
    "        )\n",
    "        \n",
    "        return list(training_data)\n",
    "    \n",
    "    def fit(self, data):\n",
    "        counts = collections.Counter((x['home_goals'], x['away_goals']) for x in data)\n",
    "        self._data = [\n",
    "            mezzala.ScorelinePrediction(\n",
    "                home_goals=hg,\n",
    "                away_goals=ag,\n",
    "                probability=count/len(data)\n",
    "            )\n",
    "            for (hg, ag), count in counts.items()\n",
    "        ]\n",
    "        return self\n",
    "    \n",
    "    def predict(self, data):\n",
    "        # Just make the same prediction for every match\n",
    "        return [self._data]*len(data)\n",
    "    \n",
    "    def to_dict(self):\n",
    "        return {\n",
    "            'time_window': self._time_window\n",
    "        }"
   ]
  },
  {
   "cell_type": "code",
   "execution_count": null,
   "id": "23c623f8",
   "metadata": {},
   "outputs": [
    {
     "name": "stdout",
     "output_type": "stream",
     "text": [
      "Home team: Chelsea\n",
      "Away team: Arsenal\n",
      "Home win : 0.39\n",
      "Draw     : 0.23\n",
      "Away win : 0.38\n"
     ]
    }
   ],
   "source": [
    "benchmark_model = Benchmark()\n",
    "target_date = dt.datetime(2021, 5, 12).date()\n",
    "\n",
    "train = benchmark_model.fetch_data(\n",
    "    league_ids=[1],\n",
    "    date=target_date\n",
    ")\n",
    "benchmark_model.fit(train)\n",
    "\n",
    "test = list(wingback.db.queries.fetch_matches(\n",
    "    start=target_date,\n",
    "    end=target_date+dt.timedelta(days=1), \n",
    "    league_ids=[1],\n",
    "    season_ids=[None]\n",
    "))\n",
    "\n",
    "predictions = benchmark_model.predict(test)\n",
    "\n",
    "print(f'Home team: {test[0][\"home_team\"]}')\n",
    "print(f'Away team: {test[0][\"away_team\"]}')\n",
    "for outcome, prediction in mezzala.scorelines_to_outcomes(predictions[0]).items():\n",
    "    print(f'{outcome.value.ljust(9)}: {prediction.probability:0.2f}')"
   ]
  },
  {
   "cell_type": "code",
   "execution_count": null,
   "id": "96f2fc85",
   "metadata": {},
   "outputs": [],
   "source": [
    "#exporti\n",
    "\n",
    "\n",
    "def encode_parameter_key(key):\n",
    "    if isinstance(key, mezzala.OffenceParameterKey):\n",
    "        return ('Offence', key.label)\n",
    "    if isinstance(key, mezzala.DefenceParameterKey):\n",
    "        return ('Defence', key.label)\n",
    "    if isinstance(key, mezzala.ParameterKey):\n",
    "        return key.label\n",
    "    return key\n",
    "\n",
    "\n",
    "def decode_parameter_key(key):\n",
    "    if isinstance(key, str):\n",
    "        return mezzala.ParameterKey(key)\n",
    "    if isinstance(key, list):\n",
    "        off_def, label = key\n",
    "        if off_def == 'Offence':\n",
    "            return mezzala.OffenceParameterKey(label)\n",
    "        if off_def == 'Defence':\n",
    "            return mezzala.DefenceParameterKey(label)"
   ]
  },
  {
   "cell_type": "code",
   "execution_count": null,
   "id": "1b345a08",
   "metadata": {},
   "outputs": [],
   "source": [
    "#exporti\n",
    "\n",
    "\n",
    "def init_model(weight, params=None):\n",
    "    base_adapter = mezzala.KeyAdapter(\n",
    "        home_goals='home_goals',\n",
    "        away_goals='away_goals',\n",
    "        home_team='home_team_id',  # Might be nicer to do a tuple of (ID, name)?\n",
    "        away_team='away_team_id',\n",
    "    )\n",
    "    model = mezzala.DixonColes(\n",
    "        adapter=mezzala.LumpedAdapter(\n",
    "            base_adapter,\n",
    "            home_team=('Other team', 5),\n",
    "            away_team=('Other team', 5),\n",
    "        ),\n",
    "        blocks=[\n",
    "            mezzala.blocks.BaseRate(),\n",
    "            mezzala.blocks.TeamStrength(),\n",
    "            mezzala.blocks.HomeAdvantage(),\n",
    "            mezzala.blocks.ConstantBlock(\n",
    "                mezzala.OffenceParameterKey('Other team'),\n",
    "                mezzala.DefenceParameterKey('Other team')\n",
    "            ),\n",
    "        ],\n",
    "        weight=weight,\n",
    "        params=params\n",
    "    )\n",
    "    \n",
    "    return model"
   ]
  },
  {
   "cell_type": "code",
   "execution_count": null,
   "id": "1d6656c3",
   "metadata": {},
   "outputs": [],
   "source": [
    "#export\n",
    "\n",
    "\n",
    "class DCGoals(ModelABC):\n",
    "    def __init__(self, time_window=360, epsilon=-0.0065, params=None):\n",
    "        self._time_window = time_window\n",
    "        self._epsilon = epsilon\n",
    "        \n",
    "        # Create the model\n",
    "        self._model = init_model(\n",
    "            weight=mezzala.weights.ExponentialWeight(\n",
    "                epsilon=epsilon,  \n",
    "                key=lambda x: x['days_ago']\n",
    "            ),\n",
    "            params=params\n",
    "        )\n",
    "    \n",
    "    @property\n",
    "    def time_window(self):\n",
    "        return dt.timedelta(days=self._time_window)\n",
    "    \n",
    "    def fetch_data(self, league_ids, date):\n",
    "        training_data = wingback.db.queries.fetch_matches(\n",
    "            start=date-self.time_window, \n",
    "            end=date, \n",
    "            league_ids=league_ids,\n",
    "            season_ids=[None]\n",
    "        )\n",
    "       \n",
    "        return list(training_data)\n",
    "    \n",
    "    def fit(self, data):\n",
    "        self._model.adapter.fit(data)\n",
    "        self._model.fit(data)\n",
    "        return self\n",
    "    \n",
    "    def predict(self, data):\n",
    "        predictions = self._model.predict(data)\n",
    "        return predictions\n",
    "    \n",
    "    def to_dict(self):\n",
    "        return {\n",
    "            'time_window': self._time_window,\n",
    "            'epsilon': self._epsilon,\n",
    "            'params': [\n",
    "                (encode_parameter_key(k), v if not np.isnan(v) else None)\n",
    "                for k, v in self._model.params.items()\n",
    "            ]\n",
    "        }"
   ]
  },
  {
   "cell_type": "code",
   "execution_count": null,
   "id": "fe6fdbb7",
   "metadata": {},
   "outputs": [
    {
     "name": "stderr",
     "output_type": "stream",
     "text": [
      "/Users/ben/code/wingback/venv/lib/python3.7/site-packages/mezzala/models.py:144: RuntimeWarning: invalid value encountered in log\n",
      "  np.log(self._tau(home_goals, away_goals, home_rate, away_rate, rho))\n"
     ]
    },
    {
     "name": "stdout",
     "output_type": "stream",
     "text": [
      "Home team: Chelsea\n",
      "Away team: Arsenal\n",
      "Home win : 0.43\n",
      "Draw     : 0.28\n",
      "Away win : 0.29\n"
     ]
    }
   ],
   "source": [
    "dc_model = DCGoals()\n",
    "\n",
    "train = dc_model.fetch_data(\n",
    "    league_ids=[1],\n",
    "    date=target_date\n",
    ")\n",
    "\n",
    "dc_model.fit(train)\n",
    "\n",
    "predictions = dc_model.predict(test)\n",
    "\n",
    "print(f'Home team: {test[0][\"home_team\"]}')\n",
    "print(f'Away team: {test[0][\"away_team\"]}')\n",
    "for outcome, prediction in mezzala.scorelines_to_outcomes(predictions[0]).items():\n",
    "    print(f'{outcome.value.ljust(9)}: {prediction.probability:0.2f}')"
   ]
  },
  {
   "cell_type": "code",
   "execution_count": null,
   "id": "d0fecf4f",
   "metadata": {},
   "outputs": [],
   "source": [
    "#export\n",
    "\n",
    "\n",
    "class DCxG(ModelABC):\n",
    "    def __init__(self, min_probability=0.01, time_window=360, epsilon=-0.0065, params=None):\n",
    "        self._time_window = time_window\n",
    "        self._epsilon = epsilon\n",
    "        self.min_probability = min_probability\n",
    "        \n",
    "        self._model = init_model(\n",
    "            weight=mezzala.weights.KeyWeight(\n",
    "                lambda x: x['probability']*np.exp(self._epsilon*x['days_ago'])\n",
    "            ),\n",
    "            params=params\n",
    "        )\n",
    "        \n",
    "    @property\n",
    "    def time_window(self):\n",
    "        return dt.timedelta(days=self._time_window)\n",
    "    \n",
    "    def fetch_data(self, league_ids, date):\n",
    "        training_matches = list(wingback.db.queries.fetch_matches(\n",
    "            start=date-self.time_window, \n",
    "            end=date, \n",
    "            league_ids=league_ids,\n",
    "            season_ids=[None]\n",
    "        ))\n",
    "        training_resimulations = list(wingback.db.queries.fetch_resimulations(\n",
    "            match_ids=[m['id'] for m in training_matches],\n",
    "            min_probability=self.min_probability\n",
    "        ))\n",
    "\n",
    "        test_data = wingback.db.queries.fetch_matches(\n",
    "            start=date, \n",
    "            end=date+dt.timedelta(days=1), \n",
    "            league_ids=league_ids,\n",
    "            season_ids=[None]\n",
    "        )\n",
    "        \n",
    "        # Merge matches and training data\n",
    "        training_data = []\n",
    "        for match in training_matches:\n",
    "            training_data += [\n",
    "                {**match, **t}\n",
    "                for t in training_resimulations \n",
    "                if t['match_id'] == match['id']\n",
    "            ]\n",
    "        \n",
    "        # We return both the match data and the resim data because\n",
    "        # we want to fit the adapter on the *match data* while fitting\n",
    "        # the actual model on the xG resims\n",
    "        return (list(training_matches), list(training_data))\n",
    "    \n",
    "    def fit(self, data):\n",
    "        match_data, resim_data = data\n",
    "        \n",
    "        # Fit the adapter using the actual number of matches\n",
    "        # (as opposed to the number of resimulations present...)\n",
    "        self._model.adapter.fit(match_data)\n",
    "        \n",
    "        # And fit the model parameters on the xG resimulations\n",
    "        self._model.fit(resim_data)\n",
    "\n",
    "        return self\n",
    "    \n",
    "    def predict(self, data):\n",
    "        predictions = self._model.predict(data)\n",
    "        return predictions\n",
    "    \n",
    "    def to_dict(self):\n",
    "        return {\n",
    "            'time_window': self._time_window,\n",
    "            'min_probability': self.min_probability,\n",
    "            'epsilon': self._epsilon,\n",
    "            'params': [\n",
    "                (encode_parameter_key(k), v if not np.isnan(v) else None)\n",
    "                for k, v in self._model.params.items()\n",
    "            ]\n",
    "        }"
   ]
  },
  {
   "cell_type": "code",
   "execution_count": null,
   "id": "c02fdb27",
   "metadata": {},
   "outputs": [
    {
     "name": "stderr",
     "output_type": "stream",
     "text": [
      "/Users/ben/code/wingback/venv/lib/python3.7/site-packages/mezzala/models.py:134: RuntimeWarning: overflow encountered in multiply\n",
      "  tau = np.where((home_goals == 0) & (away_goals == 0), 1 - home_rate*away_rate*rho, tau)\n"
     ]
    },
    {
     "name": "stdout",
     "output_type": "stream",
     "text": [
      "Home team: Chelsea\n",
      "Away team: Arsenal\n",
      "Home win : 0.57\n",
      "Draw     : 0.24\n",
      "Away win : 0.18\n"
     ]
    }
   ],
   "source": [
    "xg_model = DCxG(time_window=360, epsilon=0)  # No time weighting\n",
    "\n",
    "train = xg_model.fetch_data(\n",
    "    league_ids=[1],\n",
    "    date=target_date\n",
    ")\n",
    "xg_model.fit(train)\n",
    "\n",
    "predictions = xg_model.predict(test)\n",
    "\n",
    "print(f'Home team: {test[0][\"home_team\"]}')\n",
    "print(f'Away team: {test[0][\"away_team\"]}')\n",
    "for outcome, prediction in mezzala.scorelines_to_outcomes(predictions[0]).items():\n",
    "    print(f'{outcome.value.ljust(9)}: {prediction.probability:0.2f}')"
   ]
  },
  {
   "cell_type": "code",
   "execution_count": null,
   "id": "f7ce1879",
   "metadata": {},
   "outputs": [
    {
     "name": "stdout",
     "output_type": "stream",
     "text": [
      "Home team: Chelsea\n",
      "Away team: Arsenal\n",
      "Home win : 0.58\n",
      "Draw     : 0.25\n",
      "Away win : 0.16\n"
     ]
    }
   ],
   "source": [
    "xg_model = DCxG(time_window=360, epsilon=-0.01)  # Incredibly aggressive time-weighting\n",
    "\n",
    "train = xg_model.fetch_data(\n",
    "    league_ids=[1],\n",
    "    date=target_date\n",
    ")\n",
    "xg_model.fit(train)\n",
    "\n",
    "predictions = xg_model.predict(test)\n",
    "\n",
    "print(f'Home team: {test[0][\"home_team\"]}')\n",
    "print(f'Away team: {test[0][\"away_team\"]}')\n",
    "for outcome, prediction in mezzala.scorelines_to_outcomes(predictions[0]).items():\n",
    "    print(f'{outcome.value.ljust(9)}: {prediction.probability:0.2f}')"
   ]
  },
  {
   "cell_type": "code",
   "execution_count": null,
   "id": "16fc7017",
   "metadata": {},
   "outputs": [],
   "source": [
    "#export\n",
    "\n",
    "\n",
    "class DCEnsemble(ModelABC):\n",
    "    def __init__(self, models=[], time_window=360):\n",
    "        self.models = models\n",
    "        self._time_window = time_window\n",
    "        \n",
    "        # Weight is irrelevant since _model.fit\n",
    "        # is never actually called\n",
    "        self._model = init_model(weight=lambda x: 1)\n",
    "        \n",
    "    @property\n",
    "    def time_window(self):\n",
    "        return dt.timedelta(days=self._time_window)\n",
    "        \n",
    "    @staticmethod\n",
    "    def _fetch_backtest_params(model, league_ids, date):\n",
    "        backtest = wingback.db.queries.fetch_backtest(\n",
    "            model=model, \n",
    "            date=date, \n",
    "            league_ids=league_ids\n",
    "        )\n",
    "        params = backtest['json']['parameters']['params']\n",
    "        return {decode_parameter_key(k): v for k, v in params}\n",
    "    \n",
    "    def fetch_data(self, league_ids, date):\n",
    "        # Fetch models from database\n",
    "        model_params = {\n",
    "            (model, weight): self._fetch_backtest_params(model, league_ids, date)\n",
    "            for model, weight in self.models\n",
    "        }\n",
    "        \n",
    "        # We also need to fetch the \"regular\" data to fit the lumped adapter\n",
    "        training_data = wingback.db.queries.fetch_matches(\n",
    "            start=date-self.time_window, \n",
    "            end=date, \n",
    "            league_ids=league_ids,\n",
    "            season_ids=[None]\n",
    "        )\n",
    "        \n",
    "        return (model_params, list(training_data))\n",
    "    \n",
    "    def fit(self, data):\n",
    "        model_params, match_data = data\n",
    "        \n",
    "        # Reduce parameter values\n",
    "        \n",
    "        # First, we need to get all the parameters used by the models in question\n",
    "        # We take the intersection of each models' parameters. Although, since each\n",
    "        # model should have exactly the same parameters, it shouldn't matter whether\n",
    "        # we take the intersection or superset of all parameters\n",
    "        # NOTE: is there a nice, pythonic way to transpose list-of-maps into map-of-lists?\n",
    "        # NB: The data is a dict of {model_name: params}\n",
    "        param_keys = functools.reduce(\n",
    "            # Find the intersection of each models' parameters\n",
    "            lambda x, y: x & y, \n",
    "            [set(params.keys()) for params in model_params.values()]\n",
    "        )\n",
    "        \n",
    "        # To actually combine the parameters, we just take a weighted average\n",
    "        # of the parameter values in real space (they are stored internally in\n",
    "        # log space)\n",
    "        params = {}\n",
    "        for k in param_keys:\n",
    "            param = np.average(\n",
    "                # Shift parameters back from log-space into real values\n",
    "                np.exp([p[k] for p in model_params.values()]),\n",
    "                # Use weights for *weighted* average\n",
    "                weights=[w for _, w in model_params.keys()]\n",
    "            )\n",
    "            \n",
    "            # Finally, move parameter back into log-space\n",
    "            params[k] = np.log(param)\n",
    "\n",
    "        # Insert params into the model\n",
    "        self._model.params = params\n",
    "        \n",
    "        # We also need to fit the lumped adapter\n",
    "        self._model.adapter.fit(match_data)\n",
    "        return self\n",
    "    \n",
    "    def predict(self, data):\n",
    "        predictions = self._model.predict(data)\n",
    "        return predictions\n",
    "    \n",
    "    def to_dict(self):\n",
    "        return {\n",
    "            'models': self.models,\n",
    "            'params': [\n",
    "                (encode_parameter_key(k), v if not np.isnan(v) else None)\n",
    "                for k, v in self._model.params.items()\n",
    "            ]\n",
    "        }"
   ]
  },
  {
   "cell_type": "code",
   "execution_count": null,
   "id": "deca38f5",
   "metadata": {},
   "outputs": [
    {
     "name": "stdout",
     "output_type": "stream",
     "text": [
      "Home team: Chelsea\n",
      "Away team: Arsenal\n",
      "Home win : 0.51\n",
      "Draw     : 0.27\n",
      "Away win : 0.22\n"
     ]
    }
   ],
   "source": [
    "ensemble_model = DCEnsemble([\n",
    "    # Models are supplied with a name and a weight (for a weighted average)\n",
    "    ('dixon-coles-0.008207', 0.5), \n",
    "    ('dixon-coles-xg-0.008207', 0.5)\n",
    "])\n",
    "\n",
    "train = ensemble_model.fetch_data(\n",
    "    league_ids=[1],\n",
    "    date=target_date\n",
    ")\n",
    "ensemble_model.fit(train)\n",
    "\n",
    "predictions = ensemble_model.predict(test)\n",
    "\n",
    "print(f'Home team: {test[0][\"home_team\"]}')\n",
    "print(f'Away team: {test[0][\"away_team\"]}')\n",
    "for outcome, prediction in mezzala.scorelines_to_outcomes(predictions[0]).items():\n",
    "    print(f'{outcome.value.ljust(9)}: {prediction.probability:0.2f}')"
   ]
  },
  {
   "cell_type": "code",
   "execution_count": null,
   "id": "6db849e1",
   "metadata": {},
   "outputs": [
    {
     "name": "stdout",
     "output_type": "stream",
     "text": [
      "Home team: Chelsea\n",
      "Away team: Arsenal\n",
      "Home win : 0.47\n",
      "Draw     : 0.28\n",
      "Away win : 0.26\n"
     ]
    }
   ],
   "source": [
    "ensemble_model = DCEnsemble([\n",
    "    ('dixon-coles-0.008207', 0.8), \n",
    "    ('dixon-coles-xg-0.008207', 0.2)\n",
    "])\n",
    "\n",
    "train = ensemble_model.fetch_data(\n",
    "    league_ids=[1],\n",
    "    date=target_date\n",
    ")\n",
    "ensemble_model.fit(train)\n",
    "\n",
    "predictions = ensemble_model.predict(test)\n",
    "\n",
    "print(f'Home team: {test[0][\"home_team\"]}')\n",
    "print(f'Away team: {test[0][\"away_team\"]}')\n",
    "for outcome, prediction in mezzala.scorelines_to_outcomes(predictions[0]).items():\n",
    "    print(f'{outcome.value.ljust(9)}: {prediction.probability:0.2f}')"
   ]
  },
  {
   "cell_type": "code",
   "execution_count": null,
   "id": "3fc3b991",
   "metadata": {},
   "outputs": [
    {
     "name": "stdout",
     "output_type": "stream",
     "text": [
      "Home team: Chelsea\n",
      "Away team: Arsenal\n",
      "Home win : 0.55\n",
      "Draw     : 0.26\n",
      "Away win : 0.19\n"
     ]
    }
   ],
   "source": [
    "ensemble_model = DCEnsemble([\n",
    "    ('dixon-coles-0.008207', 0.2), \n",
    "    ('dixon-coles-xg-0.008207', 0.8)\n",
    "])\n",
    "\n",
    "train = ensemble_model.fetch_data(\n",
    "    league_ids=[1],\n",
    "    date=target_date\n",
    ")\n",
    "ensemble_model.fit(train)\n",
    "\n",
    "predictions = ensemble_model.predict(test)\n",
    "\n",
    "print(f'Home team: {test[0][\"home_team\"]}')\n",
    "print(f'Away team: {test[0][\"away_team\"]}')\n",
    "for outcome, prediction in mezzala.scorelines_to_outcomes(predictions[0]).items():\n",
    "    print(f'{outcome.value.ljust(9)}: {prediction.probability:0.2f}')"
   ]
  },
  {
   "cell_type": "markdown",
   "id": "1e16ff9b",
   "metadata": {},
   "source": [
    "## Model registry\n",
    "\n",
    "Register models for use with the CLI"
   ]
  },
  {
   "cell_type": "code",
   "execution_count": null,
   "id": "60bb14cc",
   "metadata": {},
   "outputs": [
    {
     "data": {
      "text/plain": [
       "array([-0.00820749, -0.00471991, -0.00323409, -0.00227608, -0.00156766,\n",
       "       -0.00100529, -0.00053893, -0.00014053])"
      ]
     },
     "execution_count": null,
     "metadata": {},
     "output_type": "execute_result"
    }
   ],
   "source": [
    "#export\n",
    "eps_values = np.log(np.linspace(0.05, 0.95, 8))/365\n",
    "eps_values"
   ]
  },
  {
   "cell_type": "code",
   "execution_count": null,
   "id": "8825c31a",
   "metadata": {},
   "outputs": [
    {
     "name": "stdout",
     "output_type": "stream",
     "text": [
      "For eps=-0.008207,\t0.22824 @180d,\t0.05209 @360d\n",
      "For eps=-0.004720,\t0.42759 @180d,\t0.18284 @360d\n",
      "For eps=-0.003234,\t0.55870 @180d,\t0.31215 @360d\n",
      "For eps=-0.002276,\t0.66385 @180d,\t0.44070 @360d\n",
      "For eps=-0.001568,\t0.75414 @180d,\t0.56873 @360d\n",
      "For eps=-0.001005,\t0.83448 @180d,\t0.69635 @360d\n",
      "For eps=-0.000539,\t0.90755 @180d,\t0.82365 @360d\n",
      "For eps=-0.000141,\t0.97502 @180d,\t0.95067 @360d\n"
     ]
    }
   ],
   "source": [
    "for eps, e180, e360 in (zip(eps_values, np.exp(eps_values*180), np.exp(eps_values*360))):\n",
    "    print(f'For eps={eps:0.6f},\\t{e180:0.5f} @180d,\\t{e360:0.5f} @360d')"
   ]
  },
  {
   "cell_type": "code",
   "execution_count": null,
   "id": "5e9b2968",
   "metadata": {},
   "outputs": [],
   "source": [
    "#export\n",
    "\n",
    "MODEL_REGISTRY = {}\n",
    "\n",
    "\n",
    "MODEL_REGISTRY['benchmark'] = Benchmark(time_window=730)\n",
    "\n",
    "for eps in eps_values:\n",
    "    MODEL_REGISTRY[f'dixon-coles{eps:0.6f}'] = DCGoals(time_window=730, epsilon=eps)\n",
    "    MODEL_REGISTRY[f'dixon-coles-xg{eps:0.6f}'] = DCxG(time_window=730, epsilon=eps, min_probability=0.01)\n",
    "    \n",
    "for xg_mix in np.linspace(0.05, 0.95, 8):\n",
    "    MODEL_REGISTRY[f'ensemble-{xg_mix:0.5f}'] = DCEnsemble(\n",
    "        [('dixon-coles-0.001568', 1-xg_mix),\n",
    "         ('dixon-coles-xg-0.003234', xg_mix)], \n",
    "        time_window=730\n",
    "    )"
   ]
  },
  {
   "cell_type": "code",
   "execution_count": null,
   "id": "a25db092",
   "metadata": {},
   "outputs": [
    {
     "data": {
      "text/plain": [
       "{'benchmark': <__main__.Benchmark at 0x125cbee80>,\n",
       " 'dixon-coles-0.008207': <__main__.DCGoals at 0x125cbef98>,\n",
       " 'dixon-coles-xg-0.008207': <__main__.DCxG at 0x125d22240>,\n",
       " 'dixon-coles-0.004720': <__main__.DCGoals at 0x125d22470>,\n",
       " 'dixon-coles-xg-0.004720': <__main__.DCxG at 0x125d22710>,\n",
       " 'dixon-coles-0.003234': <__main__.DCGoals at 0x125d22978>,\n",
       " 'dixon-coles-xg-0.003234': <__main__.DCxG at 0x125cc06a0>,\n",
       " 'dixon-coles-0.002276': <__main__.DCGoals at 0x125cc0c18>,\n",
       " 'dixon-coles-xg-0.002276': <__main__.DCxG at 0x125cc0f28>,\n",
       " 'dixon-coles-0.001568': <__main__.DCGoals at 0x125cc0b70>,\n",
       " 'dixon-coles-xg-0.001568': <__main__.DCxG at 0x125c90c88>,\n",
       " 'dixon-coles-0.001005': <__main__.DCGoals at 0x125c90d30>,\n",
       " 'dixon-coles-xg-0.001005': <__main__.DCxG at 0x125c62630>,\n",
       " 'dixon-coles-0.000539': <__main__.DCGoals at 0x125c62898>,\n",
       " 'dixon-coles-xg-0.000539': <__main__.DCxG at 0x125c62b00>,\n",
       " 'dixon-coles-0.000141': <__main__.DCGoals at 0x125afc048>,\n",
       " 'dixon-coles-xg-0.000141': <__main__.DCxG at 0x125c62be0>,\n",
       " 'ensemble-0.05000': <__main__.DCEnsemble at 0x125c62e48>,\n",
       " 'ensemble-0.17857': <__main__.DCEnsemble at 0x125ca10b8>,\n",
       " 'ensemble-0.30714': <__main__.DCEnsemble at 0x125ca12e8>,\n",
       " 'ensemble-0.43571': <__main__.DCEnsemble at 0x125ca1518>,\n",
       " 'ensemble-0.56429': <__main__.DCEnsemble at 0x125ca1748>,\n",
       " 'ensemble-0.69286': <__main__.DCEnsemble at 0x125bb80b8>,\n",
       " 'ensemble-0.82143': <__main__.DCEnsemble at 0x125bb8748>,\n",
       " 'ensemble-0.95000': <__main__.DCEnsemble at 0x125bb8668>}"
      ]
     },
     "execution_count": null,
     "metadata": {},
     "output_type": "execute_result"
    }
   ],
   "source": [
    "MODEL_REGISTRY"
   ]
  },
  {
   "cell_type": "code",
   "execution_count": null,
   "id": "6bf2b688",
   "metadata": {},
   "outputs": [],
   "source": []
  }
 ],
 "metadata": {
  "kernelspec": {
   "display_name": "Python 3",
   "language": "python",
   "name": "python3"
  }
 },
 "nbformat": 4,
 "nbformat_minor": 5
}
