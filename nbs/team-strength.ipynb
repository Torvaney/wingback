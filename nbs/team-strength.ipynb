{
 "cells": [
  {
   "cell_type": "code",
   "execution_count": null,
   "id": "a6e6dd58",
   "metadata": {},
   "outputs": [],
   "source": [
    "# default_exp team_strength"
   ]
  },
  {
   "cell_type": "markdown",
   "id": "15a4433e",
   "metadata": {},
   "source": [
    "# Team strength"
   ]
  },
  {
   "cell_type": "code",
   "execution_count": null,
   "id": "35c681b1",
   "metadata": {},
   "outputs": [],
   "source": [
    "#hide\n",
    "from nbdev.showdoc import *"
   ]
  },
  {
   "cell_type": "code",
   "execution_count": null,
   "id": "a04de80b",
   "metadata": {},
   "outputs": [],
   "source": [
    "import os\n",
    "import dotenv"
   ]
  },
  {
   "cell_type": "code",
   "execution_count": null,
   "id": "44cb472a",
   "metadata": {},
   "outputs": [],
   "source": [
    "#export\n",
    "import abc\n",
    "import collections\n",
    "import datetime as dt\n",
    "\n",
    "import mezzala\n",
    "import numpy as np\n",
    "\n",
    "import wingback.db"
   ]
  },
  {
   "cell_type": "code",
   "execution_count": null,
   "id": "440bfe05",
   "metadata": {},
   "outputs": [],
   "source": [
    "dotenv.load_dotenv()\n",
    "\n",
    "wingback.db.queries.connect('postgresql://{user}:{password}@{host}:{port}/{database}'.format(\n",
    "    host=os.environ['DB_HOST'],\n",
    "    user=os.environ['DB_USER'],\n",
    "    password=os.environ['DB_PASS'],\n",
    "    database=os.environ['DB_NAME'],\n",
    "    port=os.environ['DB_PORT'],\n",
    "))"
   ]
  },
  {
   "cell_type": "code",
   "execution_count": null,
   "id": "40c635d9",
   "metadata": {},
   "outputs": [],
   "source": [
    "#export\n",
    "\n",
    "\n",
    "class ModelABC:\n",
    "    @abc.abstractmethod\n",
    "    def fetch_data(self, league_ids, date):\n",
    "        training_data = ...  # e.g. matches up-to, not including `date`\n",
    "        return training_data\n",
    "    \n",
    "    @abc.abstractmethod\n",
    "    def fit(self, data):\n",
    "        return self\n",
    "    \n",
    "    @abc.abstractmethod\n",
    "    def predict(self, data):\n",
    "        predictions = ...\n",
    "        return predictions\n",
    "    \n",
    "    @abc.abstractmethod\n",
    "    def to_dict(self):\n",
    "        return ..."
   ]
  },
  {
   "cell_type": "code",
   "execution_count": null,
   "id": "c34dce83",
   "metadata": {},
   "outputs": [],
   "source": [
    "#export\n",
    "\n",
    "\n",
    "class Benchmark(ModelABC):\n",
    "    \"\"\"\n",
    "    A benchmark model that gives the same predictions for every match.\n",
    "    \n",
    "    This prediction is simply an average of the observed scoreline frequency \n",
    "    within the training data.\n",
    "    \"\"\"\n",
    "    \n",
    "    def __init__(self, time_window=360):\n",
    "        self._time_window = time_window\n",
    "        \n",
    "        self._data = None\n",
    "    \n",
    "    @property\n",
    "    def time_window(self):\n",
    "        return dt.timedelta(days=self._time_window)\n",
    "    \n",
    "    def fetch_data(self, league_ids, date):\n",
    "        training_data = wingback.db.queries.fetch_matches(\n",
    "            start=date-self.time_window, \n",
    "            end=date, \n",
    "            league_ids=league_ids,\n",
    "            season_ids=[None]\n",
    "        )\n",
    "        \n",
    "        return list(training_data)\n",
    "    \n",
    "    def fit(self, data):\n",
    "        counts = collections.Counter((x['home_goals'], x['away_goals']) for x in data)\n",
    "        self._data = [\n",
    "            mezzala.ScorelinePrediction(\n",
    "                home_goals=hg,\n",
    "                away_goals=ag,\n",
    "                probability=count/len(data)\n",
    "            )\n",
    "            for (hg, ag), count in counts.items()\n",
    "        ]\n",
    "        return self\n",
    "    \n",
    "    def predict(self, data):\n",
    "        # Just make the same prediction for every match\n",
    "        return [self._data]*len(data)\n",
    "    \n",
    "    def to_dict(self):\n",
    "        return {\n",
    "            'time_window': self._time_window\n",
    "        }"
   ]
  },
  {
   "cell_type": "code",
   "execution_count": null,
   "id": "23c623f8",
   "metadata": {},
   "outputs": [
    {
     "name": "stdout",
     "output_type": "stream",
     "text": [
      "Home team: Chelsea\n",
      "Away team: Arsenal\n",
      "Home win : 0.38\n",
      "Draw     : 0.23\n",
      "Away win : 0.39\n"
     ]
    }
   ],
   "source": [
    "benchmark_model = Benchmark()\n",
    "target_date = dt.datetime(2021, 5, 12).date()\n",
    "\n",
    "train = benchmark_model.fetch_data(\n",
    "    league_ids=[1],\n",
    "    date=target_date\n",
    ")\n",
    "benchmark_model.fit(train)\n",
    "\n",
    "test = list(wingback.db.queries.fetch_matches(\n",
    "    start=target_date,\n",
    "    end=target_date+dt.timedelta(days=1), \n",
    "    league_ids=[1],\n",
    "    season_ids=[None]\n",
    "))\n",
    "\n",
    "predictions = benchmark_model.predict(test)\n",
    "\n",
    "print(f'Home team: {test[0][\"home_team\"]}')\n",
    "print(f'Away team: {test[0][\"away_team\"]}')\n",
    "for outcome, prediction in mezzala.scorelines_to_outcomes(predictions[0]).items():\n",
    "    print(f'{outcome.value.ljust(9)}: {prediction.probability:0.2f}')"
   ]
  },
  {
   "cell_type": "code",
   "execution_count": null,
   "id": "96f2fc85",
   "metadata": {},
   "outputs": [],
   "source": [
    "#exporti\n",
    "\n",
    "\n",
    "def encode_parameter_key(key):\n",
    "    if isinstance(key, mezzala.OffenceParameterKey):\n",
    "        return ('Offence', key.label)\n",
    "    if isinstance(key, mezzala.DefenceParameterKey):\n",
    "        return ('Defence', key.label)\n",
    "    if isinstance(key, mezzala.ParameterKey):\n",
    "        return key.label\n",
    "    return key"
   ]
  },
  {
   "cell_type": "code",
   "execution_count": null,
   "id": "1d6656c3",
   "metadata": {},
   "outputs": [],
   "source": [
    "#export\n",
    "\n",
    "\n",
    "class DCGoals(ModelABC):\n",
    "    def __init__(self, time_window=360, epsilon=-0.0065, params=None):\n",
    "        self._time_window = time_window\n",
    "        self._epsilon = epsilon\n",
    "        \n",
    "        # Create the model\n",
    "        base_adapter = mezzala.KeyAdapter(\n",
    "            home_goals='home_goals',\n",
    "            away_goals='away_goals',\n",
    "            home_team='home_team_id',  # Might be nicer to do a tuple of (ID, name)?\n",
    "            away_team='away_team_id',\n",
    "        )\n",
    "        self._model = mezzala.DixonColes(\n",
    "            adapter=mezzala.LumpedAdapter(\n",
    "                base_adapter,\n",
    "                home_team=('Other team', 5),\n",
    "                away_team=('Other team', 5),\n",
    "            ),\n",
    "            blocks=[\n",
    "                mezzala.blocks.BaseRate(),\n",
    "                mezzala.blocks.TeamStrength(),\n",
    "                mezzala.blocks.HomeAdvantage(),\n",
    "                mezzala.blocks.ConstantBlock(\n",
    "                    mezzala.OffenceParameterKey('Other team'),\n",
    "                    mezzala.DefenceParameterKey('Other team')\n",
    "                ),\n",
    "            ],\n",
    "            weight=mezzala.weights.ExponentialWeight(\n",
    "                epsilon=epsilon,  \n",
    "                key=lambda x: x['days_ago']\n",
    "            ),\n",
    "            params=params\n",
    "        )\n",
    "    \n",
    "    @property\n",
    "    def time_window(self):\n",
    "        return dt.timedelta(days=self._time_window)\n",
    "    \n",
    "    def fetch_data(self, league_ids, date):\n",
    "        training_data = wingback.db.queries.fetch_matches(\n",
    "            start=date-self.time_window, \n",
    "            end=date, \n",
    "            league_ids=league_ids,\n",
    "            season_ids=[None]\n",
    "        )\n",
    "       \n",
    "        return list(training_data)\n",
    "    \n",
    "    def fit(self, data):\n",
    "        self._model.adapter.fit(data)\n",
    "        self._model.fit(data)\n",
    "        return self\n",
    "    \n",
    "    def predict(self, data):\n",
    "        predictions = self._model.predict(data)\n",
    "        return predictions\n",
    "    \n",
    "    def to_dict(self):\n",
    "        return {\n",
    "            'time_window': self._time_window,\n",
    "            'epsilon': self._epsilon,\n",
    "            'params': [\n",
    "                (encode_parameter_key(k), v if not np.isnan(v) else None)\n",
    "                for k, v in self._model.params.items()\n",
    "            ]\n",
    "        }"
   ]
  },
  {
   "cell_type": "code",
   "execution_count": null,
   "id": "fe6fdbb7",
   "metadata": {},
   "outputs": [
    {
     "name": "stdout",
     "output_type": "stream",
     "text": [
      "Home team: Chelsea\n",
      "Away team: Arsenal\n",
      "Home win : 0.43\n",
      "Draw     : 0.28\n",
      "Away win : 0.28\n"
     ]
    }
   ],
   "source": [
    "dc_model = DCGoals()\n",
    "\n",
    "train = dc_model.fetch_data(\n",
    "    league_ids=[1],\n",
    "    date=target_date\n",
    ")\n",
    "\n",
    "dc_model.fit(train)\n",
    "\n",
    "predictions = dc_model.predict(test)\n",
    "\n",
    "print(f'Home team: {test[0][\"home_team\"]}')\n",
    "print(f'Away team: {test[0][\"away_team\"]}')\n",
    "for outcome, prediction in mezzala.scorelines_to_outcomes(predictions[0]).items():\n",
    "    print(f'{outcome.value.ljust(9)}: {prediction.probability:0.2f}')"
   ]
  },
  {
   "cell_type": "code",
   "execution_count": null,
   "id": "d0fecf4f",
   "metadata": {},
   "outputs": [],
   "source": [
    "#export\n",
    "\n",
    "\n",
    "class DCxG(ModelABC):\n",
    "    def __init__(self, min_probability=0.1, time_window=360, epsilon=-0.0065):\n",
    "        self._time_window = time_window\n",
    "        self._epsilon = epsilon\n",
    "        self.min_probability = min_probability\n",
    "        \n",
    "        base_adapter = mezzala.KeyAdapter(\n",
    "            home_goals='home_goals',\n",
    "            away_goals='away_goals',\n",
    "            home_team='home_team_id',\n",
    "            away_team='away_team_id',\n",
    "        )\n",
    "        self._model = mezzala.DixonColes(\n",
    "            adapter=mezzala.LumpedAdapter(\n",
    "                base_adapter,\n",
    "                # On average, each match has about 6 resimulated scorelines\n",
    "                # so we pick a cutoff of 30 (6*5) data points for lumping teams\n",
    "                home_team=('Other team', 6*5),\n",
    "                away_team=('Other team', 6*5),\n",
    "            ),\n",
    "            blocks=[\n",
    "                mezzala.blocks.BaseRate(),\n",
    "                mezzala.blocks.TeamStrength(),\n",
    "                mezzala.blocks.HomeAdvantage(),\n",
    "                mezzala.blocks.ConstantBlock(\n",
    "                    mezzala.OffenceParameterKey('Other team'),\n",
    "                    mezzala.DefenceParameterKey('Other team')\n",
    "                ),\n",
    "            ],\n",
    "            weight=mezzala.weights.KeyWeight(\n",
    "                lambda x: x['probability']*np.exp(self._epsilon*x['days_ago'])\n",
    "            )\n",
    "        )\n",
    "        \n",
    "    @property\n",
    "    def time_window(self):\n",
    "        return dt.timedelta(days=self._time_window)\n",
    "    \n",
    "    def fetch_data(self, league_ids, date):\n",
    "        training_matches = list(wingback.db.queries.fetch_matches(\n",
    "            start=date-self.time_window, \n",
    "            end=date, \n",
    "            league_ids=league_ids,\n",
    "            season_ids=[None]\n",
    "        ))\n",
    "        training_resimulations = list(wingback.db.queries.fetch_resimulations(\n",
    "            match_ids=[m['id'] for m in training_matches],\n",
    "            min_probability=self.min_probability\n",
    "        ))\n",
    "\n",
    "        test_data = wingback.db.queries.fetch_matches(\n",
    "            start=date, \n",
    "            end=date+dt.timedelta(days=1), \n",
    "            league_ids=league_ids,\n",
    "            season_ids=[None]\n",
    "        )\n",
    "        \n",
    "        # Merge matches and training data\n",
    "        training_data = []\n",
    "        for match in training_matches:\n",
    "            training_data += [\n",
    "                {**match, **t}\n",
    "                for t in training_resimulations \n",
    "                if t['match_id'] == match['id']\n",
    "            ]\n",
    "        \n",
    "        return list(training_data)\n",
    "    \n",
    "    def fit(self, data):\n",
    "        self._model.adapter.fit(data)\n",
    "        self._model.fit(data)\n",
    "        return self\n",
    "    \n",
    "    def predict(self, data):\n",
    "        predictions = self._model.predict(data)\n",
    "        return predictions\n",
    "    \n",
    "    def to_dict(self):\n",
    "        return {\n",
    "            'time_window': self._time_window,\n",
    "            'min_probability': self.min_probability,\n",
    "            'epsilon': self._epsilon,\n",
    "            'params': [\n",
    "                (encode_parameter_key(k), v if not np.isnan(v) else None)\n",
    "                for k, v in self._model.params.items()\n",
    "            ]\n",
    "        }"
   ]
  },
  {
   "cell_type": "code",
   "execution_count": null,
   "id": "c02fdb27",
   "metadata": {},
   "outputs": [
    {
     "name": "stderr",
     "output_type": "stream",
     "text": [
      "/Users/ben/code/wingback/venv/lib/python3.7/site-packages/mezzala/models.py:134: RuntimeWarning: overflow encountered in multiply\n",
      "  tau = np.where((home_goals == 0) & (away_goals == 0), 1 - home_rate*away_rate*rho, tau)\n"
     ]
    },
    {
     "name": "stdout",
     "output_type": "stream",
     "text": [
      "Home team: Chelsea\n",
      "Away team: Arsenal\n",
      "Home win : 0.60\n",
      "Draw     : 0.22\n",
      "Away win : 0.17\n"
     ]
    }
   ],
   "source": [
    "xg_model = DCxG(time_window=360, epsilon=0)  # No time weighting\n",
    "\n",
    "train = xg_model.fetch_data(\n",
    "    league_ids=[1],\n",
    "    date=target_date\n",
    ")\n",
    "xg_model.fit(train)\n",
    "\n",
    "predictions = xg_model.predict(test)\n",
    "\n",
    "print(f'Home team: {test[0][\"home_team\"]}')\n",
    "print(f'Away team: {test[0][\"away_team\"]}')\n",
    "for outcome, prediction in mezzala.scorelines_to_outcomes(predictions[0]).items():\n",
    "    print(f'{outcome.value.ljust(9)}: {prediction.probability:0.2f}')"
   ]
  },
  {
   "cell_type": "code",
   "execution_count": null,
   "id": "f7ce1879",
   "metadata": {},
   "outputs": [
    {
     "name": "stdout",
     "output_type": "stream",
     "text": [
      "Home team: Chelsea\n",
      "Away team: Arsenal\n",
      "Home win : 0.75\n",
      "Draw     : 0.16\n",
      "Away win : 0.09\n"
     ]
    }
   ],
   "source": [
    "xg_model = DCxG(time_window=360, epsilon=-0.01)  # Incredibly aggressive time-weighting\n",
    "\n",
    "train = xg_model.fetch_data(\n",
    "    league_ids=[1],\n",
    "    date=target_date\n",
    ")\n",
    "xg_model.fit(train)\n",
    "\n",
    "predictions = xg_model.predict(test)\n",
    "\n",
    "print(f'Home team: {test[0][\"home_team\"]}')\n",
    "print(f'Away team: {test[0][\"away_team\"]}')\n",
    "for outcome, prediction in mezzala.scorelines_to_outcomes(predictions[0]).items():\n",
    "    print(f'{outcome.value.ljust(9)}: {prediction.probability:0.2f}')"
   ]
  },
  {
   "cell_type": "markdown",
   "id": "1e16ff9b",
   "metadata": {},
   "source": [
    "## Model registry\n",
    "\n",
    "Register models for use with the CLI"
   ]
  },
  {
   "cell_type": "code",
   "execution_count": null,
   "id": "60bb14cc",
   "metadata": {},
   "outputs": [
    {
     "data": {
      "text/plain": [
       "array([-0.0126169 , -0.00593881, -0.00416217, -0.00309335, -0.00232644,\n",
       "       -0.00172793, -0.00123701, -0.00082083, -0.00045962, -0.00014053])"
      ]
     },
     "execution_count": null,
     "metadata": {},
     "output_type": "execute_result"
    }
   ],
   "source": [
    "#export\n",
    "eps_values = np.log(np.linspace(0.01, 0.95, 10))/365\n",
    "eps_values"
   ]
  },
  {
   "cell_type": "code",
   "execution_count": null,
   "id": "8825c31a",
   "metadata": {},
   "outputs": [
    {
     "name": "stdout",
     "output_type": "stream",
     "text": [
      "For eps=-0.012617,\t0.10320 @180d,\t0.01065 @360d\n",
      "For eps=-0.005939,\t0.34336 @180d,\t0.11789 @360d\n",
      "For eps=-0.004162,\t0.47275 @180d,\t0.22349 @360d\n",
      "For eps=-0.003093,\t0.57304 @180d,\t0.32837 @360d\n",
      "For eps=-0.002326,\t0.65786 @180d,\t0.43278 @360d\n",
      "For eps=-0.001728,\t0.73269 @180d,\t0.53684 @360d\n",
      "For eps=-0.001237,\t0.80039 @180d,\t0.64062 @360d\n",
      "For eps=-0.000821,\t0.86265 @180d,\t0.74416 @360d\n",
      "For eps=-0.000460,\t0.92060 @180d,\t0.84750 @360d\n",
      "For eps=-0.000141,\t0.97502 @180d,\t0.95067 @360d\n"
     ]
    }
   ],
   "source": [
    "for eps, e180, e360 in (zip(eps_values, np.exp(eps_values*180), np.exp(eps_values*360))):\n",
    "    print(f'For eps={eps:0.6f},\\t{e180:0.5f} @180d,\\t{e360:0.5f} @360d')"
   ]
  },
  {
   "cell_type": "code",
   "execution_count": null,
   "id": "5e9b2968",
   "metadata": {},
   "outputs": [],
   "source": [
    "#export\n",
    "\n",
    "MODEL_REGISTRY = {}\n",
    "\n",
    "\n",
    "MODEL_REGISTRY['benchmark'] = Benchmark(time_window=730)\n",
    "\n",
    "for eps in eps_values:\n",
    "    MODEL_REGISTRY[f'dixon-coles{eps:0.6f}'] = DCGoals(time_window=730, epsilon=eps)\n",
    "    MODEL_REGISTRY[f'dixon-coles-xg{eps:0.6f}'] = DCxG(time_window=730, epsilon=eps, min_probability=0.05)"
   ]
  },
  {
   "cell_type": "code",
   "execution_count": null,
   "id": "a25db092",
   "metadata": {},
   "outputs": [
    {
     "data": {
      "text/plain": [
       "{'benchmark': <__main__.Benchmark at 0x12841d278>,\n",
       " 'dixon-coles-0.012617': <__main__.DCGoals at 0x12841d518>,\n",
       " 'dixon-coles-xg-0.012617': <__main__.DCxG at 0x12841da90>,\n",
       " 'dixon-coles-0.005939': <__main__.DCGoals at 0x12841dda0>,\n",
       " 'dixon-coles-xg-0.005939': <__main__.DCxG at 0x1283d2128>,\n",
       " 'dixon-coles-0.004162': <__main__.DCGoals at 0x1283d25f8>,\n",
       " 'dixon-coles-xg-0.004162': <__main__.DCxG at 0x1283d2cf8>,\n",
       " 'dixon-coles-0.003093': <__main__.DCGoals at 0x1283ef1d0>,\n",
       " 'dixon-coles-xg-0.003093': <__main__.DCxG at 0x1283ef4e0>,\n",
       " 'dixon-coles-0.002326': <__main__.DCGoals at 0x1283e8828>,\n",
       " 'dixon-coles-xg-0.002326': <__main__.DCxG at 0x1283004a8>,\n",
       " 'dixon-coles-0.001728': <__main__.DCGoals at 0x1283008d0>,\n",
       " 'dixon-coles-xg-0.001728': <__main__.DCxG at 0x128300f98>,\n",
       " 'dixon-coles-0.001237': <__main__.DCGoals at 0x1283032b0>,\n",
       " 'dixon-coles-xg-0.001237': <__main__.DCxG at 0x128303588>,\n",
       " 'dixon-coles-0.000821': <__main__.DCGoals at 0x128303828>,\n",
       " 'dixon-coles-xg-0.000821': <__main__.DCxG at 0x1282c49e8>,\n",
       " 'dixon-coles-0.000460': <__main__.DCGoals at 0x1281fbe80>,\n",
       " 'dixon-coles-xg-0.000460': <__main__.DCxG at 0x128303e48>,\n",
       " 'dixon-coles-0.000141': <__main__.DCGoals at 0x128377b00>,\n",
       " 'dixon-coles-xg-0.000141': <__main__.DCxG at 0x1283071d0>}"
      ]
     },
     "execution_count": null,
     "metadata": {},
     "output_type": "execute_result"
    }
   ],
   "source": [
    "MODEL_REGISTRY"
   ]
  },
  {
   "cell_type": "code",
   "execution_count": null,
   "id": "6bf2b688",
   "metadata": {},
   "outputs": [],
   "source": []
  }
 ],
 "metadata": {
  "kernelspec": {
   "display_name": "Python 3",
   "language": "python",
   "name": "python3"
  }
 },
 "nbformat": 4,
 "nbformat_minor": 5
}
