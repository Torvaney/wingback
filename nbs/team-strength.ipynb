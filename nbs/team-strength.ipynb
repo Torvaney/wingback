{
 "cells": [
  {
   "cell_type": "code",
   "execution_count": null,
   "id": "a6e6dd58",
   "metadata": {},
   "outputs": [],
   "source": [
    "# default_exp teamstrength"
   ]
  },
  {
   "cell_type": "markdown",
   "id": "15a4433e",
   "metadata": {},
   "source": [
    "# Team strength"
   ]
  },
  {
   "cell_type": "code",
   "execution_count": null,
   "id": "35c681b1",
   "metadata": {},
   "outputs": [],
   "source": [
    "#hide\n",
    "from nbdev.showdoc import *"
   ]
  },
  {
   "cell_type": "code",
   "execution_count": null,
   "id": "a04de80b",
   "metadata": {},
   "outputs": [],
   "source": [
    "import os\n",
    "import dotenv"
   ]
  },
  {
   "cell_type": "code",
   "execution_count": null,
   "id": "44cb472a",
   "metadata": {},
   "outputs": [],
   "source": [
    "#export\n",
    "import abc\n",
    "import datetime as dt\n",
    "\n",
    "import mezzala\n",
    "\n",
    "import wingback.db"
   ]
  },
  {
   "cell_type": "code",
   "execution_count": null,
   "id": "40c635d9",
   "metadata": {},
   "outputs": [],
   "source": [
    "#export\n",
    "\n",
    "\n",
    "class ModelABC:\n",
    "    @abc.abstractmethod\n",
    "    def fetch_data(self, league_ids, date):\n",
    "        training_data = ...  # e.g. matches up-to, not including `date`\n",
    "        test_data = ...      # matches on `date`\n",
    "        return training_data, test_data\n",
    "    \n",
    "    @abc.abstractmethod\n",
    "    def fit(self, data):\n",
    "        return self\n",
    "    \n",
    "    @abc.abstractmethod\n",
    "    def predict(self, data):\n",
    "        predictions = ...\n",
    "        return predictions"
   ]
  },
  {
   "cell_type": "code",
   "execution_count": null,
   "id": "1d6656c3",
   "metadata": {},
   "outputs": [],
   "source": [
    "#export\n",
    "\n",
    "\n",
    "class DCGoals(ModelABC):\n",
    "    def __init__(self, time_window=dt.timedelta(days=360), epsilon=-0.0065):\n",
    "        self.time_window = time_window\n",
    "        self._model = mezzala.DixonColes(\n",
    "            adapter=mezzala.KeyAdapter(\n",
    "                home_goals='home_goals',\n",
    "                away_goals='away_goals',\n",
    "                home_team='home_team_id',  # Might be nicer to do a tuple of (ID, name)?\n",
    "                away_team='away_team_id',\n",
    "            ),\n",
    "            blocks=[\n",
    "                mezzala.blocks.BaseRate(),\n",
    "                mezzala.blocks.TeamStrength(),\n",
    "                mezzala.blocks.HomeAdvantage(),\n",
    "            ],\n",
    "            weight=mezzala.weights.ExponentialWeight(\n",
    "                epsilon=epsilon,  \n",
    "                key=lambda x: x['days_ago']\n",
    "            )\n",
    "        )\n",
    "    \n",
    "    def fetch_data(self, league_ids, date):\n",
    "        training_data = wingback.db.queries.fetch_matches(\n",
    "            start=date-self.time_window, \n",
    "            end=date, \n",
    "            league_ids=league_ids,\n",
    "            season_ids=[None]\n",
    "        )\n",
    "        test_data = wingback.db.queries.fetch_matches(\n",
    "            start=date, \n",
    "            end=date+dt.timedelta(days=1), \n",
    "            league_ids=league_ids,\n",
    "            season_ids=[None]\n",
    "        )\n",
    "        return list(training_data), list(test_data)\n",
    "    \n",
    "    def fit(self, data):\n",
    "        self._model.fit(data)\n",
    "        return self\n",
    "    \n",
    "    def predict(self, data):\n",
    "        predictions = self._model.predict(data)\n",
    "        return predictions"
   ]
  },
  {
   "cell_type": "code",
   "execution_count": null,
   "id": "440bfe05",
   "metadata": {},
   "outputs": [],
   "source": [
    "dotenv.load_dotenv()\n",
    "\n",
    "wingback.db.queries.connect('postgresql://{user}:{password}@{host}:{port}/{database}'.format(\n",
    "    host=os.environ['DB_HOST'],\n",
    "    user=os.environ['DB_USER'],\n",
    "    password=os.environ['DB_PASS'],\n",
    "    database=os.environ['DB_NAME'],\n",
    "    port=os.environ['DB_PORT'],\n",
    "))"
   ]
  },
  {
   "cell_type": "code",
   "execution_count": null,
   "id": "fe6fdbb7",
   "metadata": {},
   "outputs": [
    {
     "data": {
      "text/plain": [
       "<__main__.DCGoals at 0x12c233198>"
      ]
     },
     "execution_count": null,
     "metadata": {},
     "output_type": "execute_result"
    }
   ],
   "source": [
    "dc_model = DCGoals()\n",
    "\n",
    "train, test = dc_model.fetch_data(\n",
    "    league_ids=[1]\n",
    "    dt.datetime(2021, 1, 1).date()\n",
    ")\n",
    "\n",
    "dc_model.fit(train)\n",
    "\n",
    "predictions = dc_model.predict(test)\n",
    "\n",
    "print(f'Home team: {test[0][\"home_team\"]}')\n",
    "print(f'Away team: {test[0][\"away_team\"]}')\n",
    "for outcome, prediction in mezzala.scorelines_to_outcomes(predictions[0]).items():\n",
    "    print(f'{outcome.value.ljust(9)}: {prediction.probability:0.2f}')"
   ]
  },
  {
   "cell_type": "code",
   "execution_count": null,
   "id": "d0fecf4f",
   "metadata": {},
   "outputs": [],
   "source": [
    "#export\n",
    "\n",
    "\n",
    "class DCxG(ModelABC):\n",
    "    def __init__(self):\n",
    "        self._model = mezzala.DixonColes(\n",
    "            adapter=...,\n",
    "            blocks=[\n",
    "                mezzala.blocks.BaseRate(),\n",
    "                mezzala.blocks.TeamStrength(),\n",
    "                mezzala.blocks.HomeAdvantage(),\n",
    "            ],\n",
    "            weight=mezzala.weights.KeyWeight(lambda x: x['probability'])\n",
    "        )\n",
    "    \n",
    "    def fetch_data(self, date):\n",
    "        training_data = ...  # e.g. matches up-to, not including `date`\n",
    "        test_data = ...      # matches on `date`\n",
    "        return training_data, test_data\n",
    "    \n",
    "    def fit(self, data):\n",
    "        self._model.fit(data)\n",
    "        return self\n",
    "    \n",
    "    def predict(self, data):\n",
    "        base_predictions = self._model.predict(data)\n",
    "        predictions = ... # flatten? add metadata?\n",
    "        return predictions"
   ]
  }
 ],
 "metadata": {
  "kernelspec": {
   "display_name": "Python 3",
   "language": "python",
   "name": "python3"
  }
 },
 "nbformat": 4,
 "nbformat_minor": 5
}
