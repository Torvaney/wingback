{
 "cells": [
  {
   "cell_type": "markdown",
   "id": "f9a5934b",
   "metadata": {},
   "source": [
    "Create a team mapping between understat and 538"
   ]
  },
  {
   "cell_type": "code",
   "execution_count": null,
   "id": "d9658df5",
   "metadata": {},
   "outputs": [],
   "source": [
    "import dotenv\n",
    "import pandas as pd\n",
    "from difflib import SequenceMatcher\n",
    "\n",
    "from wingback import db, cli"
   ]
  },
  {
   "cell_type": "code",
   "execution_count": null,
   "id": "1f85a11d",
   "metadata": {},
   "outputs": [
    {
     "name": "stdout",
     "output_type": "stream",
     "text": [
      "Initialising database connection...\n"
     ]
    }
   ],
   "source": [
    "dotenv.load_dotenv()\n",
    "\n",
    "cli.initialize_db()"
   ]
  },
  {
   "cell_type": "code",
   "execution_count": null,
   "id": "4c918c17",
   "metadata": {},
   "outputs": [],
   "source": [
    "understat_teams = list(db.queries.fetch_understat_teams())\n",
    "fivethirtyeight_teams = list(db.queries.fetch_fivethirtyeight_teams())"
   ]
  },
  {
   "cell_type": "code",
   "execution_count": null,
   "id": "77d9f208",
   "metadata": {},
   "outputs": [
    {
     "name": "stdout",
     "output_type": "stream",
     "text": [
      "Matching Aston Villa : Aston Villa\n",
      "Matching Everton : Everton\n",
      "Matching Bournemouth : AFC Bournemouth\n",
      "Matching Southampton : Southampton\n",
      "Matching Leicester : Leicester City\n",
      "Matching West Bromwich Albion : West Bromwich Albion\n",
      "Matching Sunderland : Sunderland\n",
      "Matching Crystal Palace : Crystal Palace\n",
      "Matching Norwich : Norwich City\n",
      "Matching Chelsea : Chelsea\n",
      "Matching West Ham : West Ham United\n",
      "Matching Tottenham : Tottenham Hotspur\n",
      "Matching Arsenal : Arsenal\n",
      "Matching Swansea : Swansea City\n",
      "Matching Stoke : Stoke City\n",
      "Matching Newcastle United : Newcastle\n",
      "Matching Liverpool : Liverpool\n",
      "Matching Manchester City : Manchester City\n",
      "Matching Manchester United : Manchester United\n",
      "Matching Watford : Watford\n",
      "Matching Hull : Hull City\n",
      "Matching Burnley : Burnley\n",
      "Matching Middlesbrough : Middlesbrough\n",
      "Matching Queens Park Rangers : West Ham United\n",
      "Matching Huddersfield : Huddersfield Town\n",
      "Matching Brighton : Everton\n",
      "Matching Cardiff : Cardiff City\n",
      "Matching Fulham : Fulham\n",
      "Matching Wolverhampton Wanderers : Wolverhampton\n",
      "Matching Sheffield United : Sheffield United\n",
      "Matching Leeds : Leeds United\n"
     ]
    }
   ],
   "source": [
    "\n",
    "\n",
    "def similarity(a, b):\n",
    "    return SequenceMatcher(None, a, b).ratio()\n",
    "\n",
    "\n",
    "matched = []\n",
    "for team in understat_teams:\n",
    "    # find nearest 538 team name\n",
    "    nearest, *_ = sorted([t['team'] for t in fivethirtyeight_teams], key=lambda x: -similarity(x, team['title']))\n",
    "    print(f'Matching {team[\"title\"]} : {nearest}')\n",
    "    matched.append({\n",
    "        'understat_id': team['id'],\n",
    "        'understat_title': team['title'],\n",
    "        'fivethirtyeight_name': nearest\n",
    "    })"
   ]
  },
  {
   "cell_type": "code",
   "execution_count": null,
   "id": "1a42693e",
   "metadata": {},
   "outputs": [],
   "source": [
    "pd.DataFrame(matched).to_csv('../dbt/data/team_map.csv', index=False)"
   ]
  },
  {
   "cell_type": "code",
   "execution_count": null,
   "id": "fb305e28",
   "metadata": {},
   "outputs": [],
   "source": []
  }
 ],
 "metadata": {
  "kernelspec": {
   "display_name": "Python 3",
   "language": "python",
   "name": "python3"
  }
 },
 "nbformat": 4,
 "nbformat_minor": 5
}
