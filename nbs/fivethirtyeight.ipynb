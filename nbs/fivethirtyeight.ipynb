{
 "cells": [
  {
   "cell_type": "code",
   "execution_count": null,
   "id": "a4b858a6",
   "metadata": {},
   "outputs": [],
   "source": [
    "# default_exp fivethirtyeight"
   ]
  },
  {
   "cell_type": "markdown",
   "id": "55d3555a",
   "metadata": {},
   "source": [
    "# FiveThirtyEight\n",
    "\n",
    "> A module for fetching data from fivethirtyeight.com"
   ]
  },
  {
   "cell_type": "code",
   "execution_count": null,
   "id": "412c74ea",
   "metadata": {},
   "outputs": [],
   "source": [
    "#hide\n",
    "from nbdev.showdoc import *"
   ]
  },
  {
   "cell_type": "code",
   "execution_count": null,
   "id": "ae044919",
   "metadata": {},
   "outputs": [],
   "source": [
    "#export\n",
    "import io\n",
    "import csv\n",
    "\n",
    "import requests"
   ]
  },
  {
   "cell_type": "code",
   "execution_count": null,
   "id": "b76b7f7f",
   "metadata": {},
   "outputs": [],
   "source": [
    "#export\n",
    "\n",
    "\n",
    "def fetch_data():\n",
    "    r = requests.get('https://projects.fivethirtyeight.com/soccer-api/club/spi_matches.csv')\n",
    "    \n",
    "    f = io.StringIO(r.text)\n",
    "    reader = csv.reader(f, delimiter=',')\n",
    "\n",
    "    colnames, *rows = reader\n",
    "\n",
    "    data = [dict(zip(colnames, row)) for row in rows]\n",
    "    \n",
    "    return data"
   ]
  },
  {
   "cell_type": "code",
   "execution_count": null,
   "id": "b17a94cb",
   "metadata": {},
   "outputs": [],
   "source": [
    "data = fetch_data()"
   ]
  },
  {
   "cell_type": "code",
   "execution_count": null,
   "id": "02e5e41f",
   "metadata": {},
   "outputs": [
    {
     "data": {
      "text/plain": [
       "{'season': '2016',\n",
       " 'date': '2016-11-20',\n",
       " 'league_id': '1843',\n",
       " 'league': 'French Ligue 1',\n",
       " 'team1': 'Marseille',\n",
       " 'team2': 'Caen',\n",
       " 'spi1': '58.89',\n",
       " 'spi2': '53.12',\n",
       " 'prob1': '0.4982',\n",
       " 'prob2': '0.2125',\n",
       " 'probtie': '0.2893',\n",
       " 'proj_score1': '1.59',\n",
       " 'proj_score2': '0.95',\n",
       " 'importance1': '22.1',\n",
       " 'importance2': '28.2',\n",
       " 'score1': '1',\n",
       " 'score2': '0',\n",
       " 'xg1': '1.71',\n",
       " 'xg2': '0.08',\n",
       " 'nsxg1': '1.71',\n",
       " 'nsxg2': '0.4',\n",
       " 'adj_score1': '1.05',\n",
       " 'adj_score2': '0.0'}"
      ]
     },
     "execution_count": null,
     "metadata": {},
     "output_type": "execute_result"
    }
   ],
   "source": [
    "data[676]"
   ]
  },
  {
   "cell_type": "code",
   "execution_count": null,
   "id": "53dfa807",
   "metadata": {},
   "outputs": [
    {
     "data": {
      "text/plain": [
       "{('1818', 'UEFA Champions League'),\n",
       " ('1820', 'UEFA Europa League'),\n",
       " ('1827', 'Austrian T-Mobile Bundesliga'),\n",
       " ('1832', 'Belgian Jupiler League'),\n",
       " ('1837', 'Danish SAS-Ligaen'),\n",
       " ('1843', 'French Ligue 1'),\n",
       " ('1844', 'French Ligue 2'),\n",
       " ('1845', 'German Bundesliga'),\n",
       " ('1846', 'German 2. Bundesliga'),\n",
       " ('1849', 'Dutch Eredivisie'),\n",
       " ('1854', 'Italy Serie A'),\n",
       " ('1856', 'Italy Serie B'),\n",
       " ('1859', 'Norwegian Tippeligaen'),\n",
       " ('1864', 'Portuguese Liga'),\n",
       " ('1866', 'Russian Premier Liga'),\n",
       " ('1869', 'Spanish Primera Division'),\n",
       " ('1871', 'Spanish Segunda Division'),\n",
       " ('1874', 'Swedish Allsvenskan'),\n",
       " ('1879', 'Swiss Raiffeisen Super League'),\n",
       " ('1882', 'Turkish Turkcell Super Lig'),\n",
       " ('1884', 'Greek Super League'),\n",
       " ('1947', 'Japanese J League'),\n",
       " ('1948', 'Australian A-League'),\n",
       " ('1951', 'Major League Soccer'),\n",
       " ('1952', 'Mexican Primera Division Torneo Apertura'),\n",
       " ('1975', 'Mexican Primera Division Torneo Clausura'),\n",
       " ('1979', 'Chinese Super League'),\n",
       " ('1983', 'South African ABSA Premier League'),\n",
       " ('2105', 'Brasileiro SÃ©rie A'),\n",
       " ('2160', 'United Soccer League'),\n",
       " ('2411', 'Barclays Premier League'),\n",
       " ('2412', 'English League Championship'),\n",
       " ('2413', 'English League One'),\n",
       " ('2414', 'English League Two'),\n",
       " ('2417', 'Scottish Premiership'),\n",
       " ('4582', \"National Women's Soccer League\"),\n",
       " ('5641', 'Argentina Primera Division'),\n",
       " ('7921', \"FA Women's Super League\"),\n",
       " ('9541', 'NWSL Challenge Cup')}"
      ]
     },
     "execution_count": null,
     "metadata": {},
     "output_type": "execute_result"
    }
   ],
   "source": [
    "{(d['league_id'], d['league']) for d in data}"
   ]
  }
 ],
 "metadata": {
  "kernelspec": {
   "display_name": "Python 3",
   "language": "python",
   "name": "python3"
  }
 },
 "nbformat": 4,
 "nbformat_minor": 5
}
