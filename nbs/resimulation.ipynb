{
 "cells": [
  {
   "cell_type": "code",
   "execution_count": null,
   "id": "d384eb70",
   "metadata": {},
   "outputs": [],
   "source": [
    "# default_exp resimulation"
   ]
  },
  {
   "cell_type": "markdown",
   "id": "223d21cc",
   "metadata": {},
   "source": [
    "# Match resimulation\n",
    "\n",
    "> Simulating match outcomes based on the xG of individual shots"
   ]
  },
  {
   "cell_type": "code",
   "execution_count": null,
   "id": "a8f6e2a3",
   "metadata": {},
   "outputs": [],
   "source": [
    "#hide\n",
    "from nbdev.showdoc import *"
   ]
  },
  {
   "cell_type": "code",
   "execution_count": null,
   "id": "95653d84",
   "metadata": {},
   "outputs": [],
   "source": [
    "#export\n",
    "import collections\n",
    "import itertools\n",
    "\n",
    "import numpy as np"
   ]
  },
  {
   "cell_type": "code",
   "execution_count": null,
   "id": "a18cd14d",
   "metadata": {},
   "outputs": [],
   "source": [
    "#export\n",
    "\n",
    "\n",
    "def poisson_binomial_pmf(probs, xs, n=int(10000)):\n",
    "    \"\"\"\n",
    "    Simulate events by Monte-Carlo to get probability estimates of\n",
    "    exactly x events occuring.\n",
    "    \"\"\"\n",
    "    sim = collections.Counter()\n",
    "    for _ in range(n):\n",
    "        goals = sum(np.random.binomial(1, p) for p in probs)\n",
    "        sim[goals] += (1/n)\n",
    "    return [sim[x] for x in xs]\n",
    "\n",
    "\n",
    "def resimulate_match(shots, up_to=26, min_xg=0.0001, **kwargs):\n",
    "    \"\"\"\n",
    "    Resimulate a match based on xG. Takes a list of maps, where each map\n",
    "    represents a shot has and has 'is_home' (bool) and 'xg' (float) keys.\n",
    "    \"\"\"\n",
    "\n",
    "    # Prevent potential underflow\n",
    "    home_xgs = [max(s['xg'], min_xg) for s in shots if s['is_home']]\n",
    "    away_xgs = [max(s['xg'], min_xg) for s in shots if not s['is_home']]\n",
    "\n",
    "    home_scores = list(range(min(len(home_xgs) + 1, up_to)))\n",
    "    away_scores = list(range(min(len(away_xgs) + 1, up_to)))\n",
    "\n",
    "    home_probs = dict(zip(home_scores, poisson_binomial_pmf(home_xgs, home_scores)))\n",
    "    away_probs = dict(zip(away_scores, poisson_binomial_pmf(away_xgs, away_scores)))\n",
    "\n",
    "    scores = []\n",
    "    for h, a in itertools.product(range(up_to), repeat=2):\n",
    "        home_prob = home_probs.get(h, 0)\n",
    "        away_prob = away_probs.get(a, 0)\n",
    "        scores.append({\n",
    "            'home_goals': h,\n",
    "            'away_goals': a,\n",
    "            'home_probability': home_prob,\n",
    "            'away_probability': away_prob,\n",
    "            'probability': home_prob*away_prob,\n",
    "            **kwargs\n",
    "        })\n",
    "\n",
    "    # Keep everything up to 4-4; filter out P == 0 results above that\n",
    "    return [\n",
    "        s for s in scores \n",
    "        if s['probability'] > 0 \n",
    "        or (s['home_goals'] < 5 and s['away_goals'] < 5)\n",
    "    ]\n"
   ]
  }
 ],
 "metadata": {
  "kernelspec": {
   "display_name": "Python 3",
   "language": "python",
   "name": "python3"
  }
 },
 "nbformat": 4,
 "nbformat_minor": 5
}
