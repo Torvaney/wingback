{
 "cells": [
  {
   "cell_type": "code",
   "execution_count": null,
   "id": "f139fa53",
   "metadata": {},
   "outputs": [],
   "source": [
    "# default_exp backtest"
   ]
  },
  {
   "cell_type": "markdown",
   "id": "60410629",
   "metadata": {},
   "source": [
    "# Backtesting \n",
    "\n",
    "Backtesting Team Strength Models"
   ]
  },
  {
   "cell_type": "code",
   "execution_count": null,
   "id": "e3311bcc",
   "metadata": {},
   "outputs": [],
   "source": [
    "#hide\n",
    "from nbdev.showdoc import *"
   ]
  },
  {
   "cell_type": "code",
   "execution_count": null,
   "id": "9dc5f849",
   "metadata": {},
   "outputs": [],
   "source": [
    "import os\n",
    "import dotenv\n",
    "import datetime as dt\n",
    "\n",
    "import wingback.teamstrength"
   ]
  },
  {
   "cell_type": "code",
   "execution_count": null,
   "id": "dd47dbd3",
   "metadata": {},
   "outputs": [],
   "source": [
    "#export\n",
    "import abc\n",
    "import itertools\n",
    "\n",
    "import numpy as np\n",
    "import mezzala"
   ]
  },
  {
   "cell_type": "code",
   "execution_count": null,
   "id": "43007621",
   "metadata": {},
   "outputs": [],
   "source": [
    "#export\n",
    "\n",
    "\n",
    "class MetricABC:\n",
    "    @abc.abstractmethod\n",
    "    def evaluate_one(self, test, predictions):\n",
    "        \"\"\" Evaluate a single match \"\"\"\n",
    "        return 1.0\n",
    "    \n",
    "    def evaluate(self, test, predictions):\n",
    "        \"\"\" Evaluate a set of matches \"\"\"\n",
    "        return [self.evaluate_one(t, p) for t, p in zip(test, predictions)]\n",
    "\n",
    "\n",
    "class NLLScoreline(MetricABC):\n",
    "    def evaluate_one(self, test, predictions):\n",
    "        home_goals, away_goals = test['home_goals'], test['away_goals']\n",
    "        scoreline_pred, *__ = [\n",
    "            p for p in predictions\n",
    "            if p.home_goals == home_goals\n",
    "            and p.away_goals == away_goals\n",
    "        ]\n",
    "        return -np.log(scoreline_pred.probability)\n",
    "    \n",
    "\n",
    "class NLLOutcome(MetricABC):\n",
    "    def evaluate_one(self, test, predictions):\n",
    "        outcome = mezzala.scoreline_to_outcome(test['home_goals'], test['away_goals'])\n",
    "        outcome_pred = mezzala.scorelines_to_outcomes(predictions)[outcome]\n",
    "        return -np.log(outcome_pred.probability)"
   ]
  },
  {
   "cell_type": "code",
   "execution_count": null,
   "id": "09ef1e8d",
   "metadata": {},
   "outputs": [],
   "source": [
    "#export\n",
    "\n",
    "\n",
    "class Backtest:\n",
    "    def __init__(self, models, metrics):\n",
    "        self.models = models\n",
    "        self.metrics = metrics\n",
    "        \n",
    "    def backtest(self, league_ids, dates):\n",
    "        results = []\n",
    "        for model, date in itertools.product(self.models, dates):\n",
    "            train, test = model.fetch_data(league_ids, date)\n",
    "            model.fit(train)\n",
    "            predictions = model.predict(test)\n",
    "            \n",
    "            results.append({\n",
    "                'model': str(model),  # idk...\n",
    "                'date': date,\n",
    "                'predictions': predictions,\n",
    "                **{metric.__class__.__name__: metric.evaluate(test, predictions) \n",
    "                   for metric in self.metrics}\n",
    "            })\n",
    "        return results"
   ]
  },
  {
   "cell_type": "code",
   "execution_count": null,
   "id": "b17961ad",
   "metadata": {},
   "outputs": [],
   "source": [
    "dotenv.load_dotenv()\n",
    "\n",
    "wingback.db.queries.connect('postgresql://{user}:{password}@{host}:{port}/{database}'.format(\n",
    "    host=os.environ['DB_HOST'],\n",
    "    user=os.environ['DB_USER'],\n",
    "    password=os.environ['DB_PASS'],\n",
    "    database=os.environ['DB_NAME'],\n",
    "    port=os.environ['DB_PORT'],\n",
    "))"
   ]
  },
  {
   "cell_type": "code",
   "execution_count": null,
   "id": "4143aab3",
   "metadata": {},
   "outputs": [
    {
     "name": "stderr",
     "output_type": "stream",
     "text": [
      "/Users/ben/code/wingback/venv/lib/python3.7/site-packages/mezzala/models.py:124: RuntimeWarning: overflow encountered in multiply\n",
      "  tau = np.where((home_goals == 0) & (away_goals == 0), 1 - home_rate*away_rate*rho, tau)\n",
      "/Users/ben/code/wingback/venv/lib/python3.7/site-packages/mezzala/models.py:135: RuntimeWarning: invalid value encountered in log\n",
      "  np.log(self._tau(home_goals, away_goals, home_rate, away_rate, rho))\n"
     ]
    }
   ],
   "source": [
    "backtest = Backtest(\n",
    "    models=[\n",
    "        wingback.teamstrength.DCGoals(),\n",
    "    ],\n",
    "    metrics=[\n",
    "        NLLOutcome(),\n",
    "        NLLScoreline()\n",
    "    ]\n",
    ")\n",
    "\n",
    "results = backtest.backtest(\n",
    "    league_ids=[1],\n",
    "    dates=[dt.datetime(2020, 1, 1).date()]\n",
    ")"
   ]
  },
  {
   "cell_type": "code",
   "execution_count": null,
   "id": "d64108e9",
   "metadata": {},
   "outputs": [],
   "source": []
  }
 ],
 "metadata": {
  "kernelspec": {
   "display_name": "Python 3",
   "language": "python",
   "name": "python3"
  }
 },
 "nbformat": 4,
 "nbformat_minor": 5
}
